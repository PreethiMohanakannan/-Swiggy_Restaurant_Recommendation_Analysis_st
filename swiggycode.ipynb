{
 "cells": [
  {
   "cell_type": "code",
   "execution_count": null,
   "id": "54d6ffce",
   "metadata": {},
   "outputs": [],
   "source": [
    "#pip install pandas numpy matplotlib \n",
    "# !pip install numpy\n",
    "#!pip install scikit-learn\n",
    "#!pip install pickle\n",
    "#!pip install faiss-cpu\n"
   ]
  },
  {
   "cell_type": "code",
   "execution_count": 1,
   "id": "a8c1f7a9",
   "metadata": {},
   "outputs": [
    {
     "name": "stdout",
     "output_type": "stream",
     "text": [
      "<class 'pandas.core.frame.DataFrame'>\n",
      "RangeIndex: 148541 entries, 0 to 148540\n",
      "Data columns (total 11 columns):\n",
      " #   Column        Non-Null Count   Dtype \n",
      "---  ------        --------------   ----- \n",
      " 0   id            148541 non-null  int64 \n",
      " 1   name          148455 non-null  object\n",
      " 2   city          148541 non-null  object\n",
      " 3   rating        148455 non-null  object\n",
      " 4   rating_count  148455 non-null  object\n",
      " 5   cost          148410 non-null  object\n",
      " 6   cuisine       148442 non-null  object\n",
      " 7   lic_no        148312 non-null  object\n",
      " 8   link          148541 non-null  object\n",
      " 9   address       148455 non-null  object\n",
      " 10  menu          148541 non-null  object\n",
      "dtypes: int64(1), object(10)\n",
      "memory usage: 12.5+ MB\n",
      "None\n",
      "id                0\n",
      "name             86\n",
      "city              0\n",
      "rating           86\n",
      "rating_count     86\n",
      "cost            131\n",
      "cuisine          99\n",
      "lic_no          229\n",
      "link              0\n",
      "address          86\n",
      "menu              0\n",
      "dtype: int64\n",
      "0\n"
     ]
    }
   ],
   "source": [
    "# DATA CLEANING\n",
    "import pandas as pd\n",
    "\n",
    "raw_df = pd.read_csv(r\"C:\\Users\\Velpr\\Documents\\Swiggy\\swiggy.csv\") \n",
    "\n",
    "print(raw_df.info())\n",
    "print(raw_df.isnull().sum())\n",
    "print(raw_df.duplicated().sum())\n"
   ]
  },
  {
   "cell_type": "code",
   "execution_count": 2,
   "id": "5afd24d7",
   "metadata": {},
   "outputs": [
    {
     "name": "stdout",
     "output_type": "stream",
     "text": [
      "1633951\n",
      "(148541, 11)\n",
      "       id               name    city rating     rating_count   cost  \\\n",
      "0  567335     AB FOODS POINT  Abohar     --  Too Few Ratings  ₹ 200   \n",
      "1  531342  Janta Sweet House  Abohar    4.4      50+ ratings  ₹ 200   \n",
      "2  158203  theka coffee desi  Abohar    3.8     100+ ratings  ₹ 100   \n",
      "3  187912          Singh Hut  Abohar    3.7      20+ ratings  ₹ 250   \n",
      "4  543530      GRILL MASTERS  Abohar     --  Too Few Ratings  ₹ 250   \n",
      "\n",
      "                      cuisine          lic_no  \\\n",
      "0            Beverages,Pizzas  22122652000138   \n",
      "1               Sweets,Bakery  12117201000112   \n",
      "2                   Beverages  22121652000190   \n",
      "3            Fast Food,Indian  22119652000167   \n",
      "4  Italian-American,Fast Food  12122201000053   \n",
      "\n",
      "                                                link  \\\n",
      "0  https://www.swiggy.com/restaurants/ab-foods-po...   \n",
      "1  https://www.swiggy.com/restaurants/janta-sweet...   \n",
      "2  https://www.swiggy.com/restaurants/theka-coffe...   \n",
      "3  https://www.swiggy.com/restaurants/singh-hut-n...   \n",
      "4  https://www.swiggy.com/restaurants/grill-maste...   \n",
      "\n",
      "                                             address              menu  \n",
      "0  AB FOODS POINT, NEAR RISHI NARANG DENTAL CLINI...  Menu/567335.json  \n",
      "1  Janta Sweet House, Bazar No.9, Circullar Road,...  Menu/531342.json  \n",
      "2         theka coffee desi, sahtiya sadan road city  Menu/158203.json  \n",
      "3    Singh Hut, CIRCULAR ROAD NEAR NEHRU PARK ABOHAR  Menu/187912.json  \n",
      "4  GRILL MASTERS, ADA Heights, Abohar - Hanumanga...  Menu/543530.json  \n"
     ]
    }
   ],
   "source": [
    "print(raw_df.size)\n",
    "print(raw_df.shape)\n",
    "print(raw_df.head(5))"
   ]
  },
  {
   "cell_type": "code",
   "execution_count": 3,
   "id": "066b7c0d",
   "metadata": {},
   "outputs": [],
   "source": [
    "raw_df.columns\n",
    "\n",
    "raw_df.dropna(subset=[\"name\", \"rating\"], inplace=True)"
   ]
  },
  {
   "cell_type": "code",
   "execution_count": null,
   "id": "ad24529f",
   "metadata": {},
   "outputs": [
    {
     "name": "stdout",
     "output_type": "stream",
     "text": [
      "1633005\n",
      "(148455, 11)\n",
      "id                0\n",
      "name              0\n",
      "city              0\n",
      "rating            0\n",
      "rating_count      0\n",
      "cost             45\n",
      "cuisine          13\n",
      "lic_no          143\n",
      "link              0\n",
      "address           0\n",
      "menu              0\n",
      "dtype: int64\n",
      "0\n"
     ]
    }
   ],
   "source": [
    "print(raw_df.size)\n",
    "print(raw_df.shape)\n",
    "print(raw_df.isnull().sum())\n",
    "print(raw_df.duplicated().sum())\n",
    "\n",
    "#print(raw_df.size,\"\\n\",raw_df.shape,\"\\n\")"
   ]
  },
  {
   "cell_type": "code",
   "execution_count": 5,
   "id": "5728e7f4",
   "metadata": {},
   "outputs": [],
   "source": [
    "raw_df.drop(columns= [\"link\", \"address\", \"menu\", \"lic_no\"], inplace=True)\n"
   ]
  },
  {
   "cell_type": "code",
   "execution_count": 6,
   "id": "7800d111",
   "metadata": {},
   "outputs": [
    {
     "name": "stdout",
     "output_type": "stream",
     "text": [
      "1039185\n",
      "(148455, 7)\n",
      "id               0\n",
      "name             0\n",
      "city             0\n",
      "rating           0\n",
      "rating_count     0\n",
      "cost            45\n",
      "cuisine         13\n",
      "dtype: int64\n",
      "0\n"
     ]
    }
   ],
   "source": [
    "print(raw_df.size)\n",
    "print(raw_df.shape)\n",
    "print(raw_df.isnull().sum())\n",
    "print(raw_df.duplicated().sum())"
   ]
  },
  {
   "cell_type": "code",
   "execution_count": 7,
   "id": "b6404241",
   "metadata": {},
   "outputs": [],
   "source": [
    "raw_df.dropna(subset=[\"cuisine\", \"cost\"], inplace=True)"
   ]
  },
  {
   "cell_type": "code",
   "execution_count": 8,
   "id": "ea6aeaef",
   "metadata": {},
   "outputs": [
    {
     "name": "stdout",
     "output_type": "stream",
     "text": [
      "1038786\n",
      "(148398, 7)\n",
      "id              0\n",
      "name            0\n",
      "city            0\n",
      "rating          0\n",
      "rating_count    0\n",
      "cost            0\n",
      "cuisine         0\n",
      "dtype: int64\n",
      "0\n"
     ]
    }
   ],
   "source": [
    "print(raw_df.size)\n",
    "print(raw_df.shape)\n",
    "print(raw_df.isnull().sum())\n",
    "print(raw_df.duplicated().sum())"
   ]
  },
  {
   "cell_type": "code",
   "execution_count": 11,
   "id": "cb720252",
   "metadata": {},
   "outputs": [
    {
     "name": "stdout",
     "output_type": "stream",
     "text": [
      "Numerical Columns: Index(['id'], dtype='object')\n",
      "Categorical Columns: Index(['name', 'city', 'rating', 'rating_count', 'cost', 'cuisine'], dtype='object')\n"
     ]
    },
    {
     "data": {
      "text/html": [
       "<div>\n",
       "<style scoped>\n",
       "    .dataframe tbody tr th:only-of-type {\n",
       "        vertical-align: middle;\n",
       "    }\n",
       "\n",
       "    .dataframe tbody tr th {\n",
       "        vertical-align: top;\n",
       "    }\n",
       "\n",
       "    .dataframe thead th {\n",
       "        text-align: right;\n",
       "    }\n",
       "</style>\n",
       "<table border=\"1\" class=\"dataframe\">\n",
       "  <thead>\n",
       "    <tr style=\"text-align: right;\">\n",
       "      <th></th>\n",
       "      <th>id</th>\n",
       "      <th>name</th>\n",
       "      <th>city</th>\n",
       "      <th>rating</th>\n",
       "      <th>rating_count</th>\n",
       "      <th>cost</th>\n",
       "      <th>cuisine</th>\n",
       "    </tr>\n",
       "  </thead>\n",
       "  <tbody>\n",
       "    <tr>\n",
       "      <th>0</th>\n",
       "      <td>567335</td>\n",
       "      <td>AB FOODS POINT</td>\n",
       "      <td>Abohar</td>\n",
       "      <td>--</td>\n",
       "      <td>Too Few Ratings</td>\n",
       "      <td>₹ 200</td>\n",
       "      <td>Beverages,Pizzas</td>\n",
       "    </tr>\n",
       "    <tr>\n",
       "      <th>1</th>\n",
       "      <td>531342</td>\n",
       "      <td>Janta Sweet House</td>\n",
       "      <td>Abohar</td>\n",
       "      <td>4.4</td>\n",
       "      <td>50+ ratings</td>\n",
       "      <td>₹ 200</td>\n",
       "      <td>Sweets,Bakery</td>\n",
       "    </tr>\n",
       "    <tr>\n",
       "      <th>2</th>\n",
       "      <td>158203</td>\n",
       "      <td>theka coffee desi</td>\n",
       "      <td>Abohar</td>\n",
       "      <td>3.8</td>\n",
       "      <td>100+ ratings</td>\n",
       "      <td>₹ 100</td>\n",
       "      <td>Beverages</td>\n",
       "    </tr>\n",
       "    <tr>\n",
       "      <th>3</th>\n",
       "      <td>187912</td>\n",
       "      <td>Singh Hut</td>\n",
       "      <td>Abohar</td>\n",
       "      <td>3.7</td>\n",
       "      <td>20+ ratings</td>\n",
       "      <td>₹ 250</td>\n",
       "      <td>Fast Food,Indian</td>\n",
       "    </tr>\n",
       "    <tr>\n",
       "      <th>4</th>\n",
       "      <td>543530</td>\n",
       "      <td>GRILL MASTERS</td>\n",
       "      <td>Abohar</td>\n",
       "      <td>--</td>\n",
       "      <td>Too Few Ratings</td>\n",
       "      <td>₹ 250</td>\n",
       "      <td>Italian-American,Fast Food</td>\n",
       "    </tr>\n",
       "  </tbody>\n",
       "</table>\n",
       "</div>"
      ],
      "text/plain": [
       "       id               name    city rating     rating_count   cost  \\\n",
       "0  567335     AB FOODS POINT  Abohar     --  Too Few Ratings  ₹ 200   \n",
       "1  531342  Janta Sweet House  Abohar    4.4      50+ ratings  ₹ 200   \n",
       "2  158203  theka coffee desi  Abohar    3.8     100+ ratings  ₹ 100   \n",
       "3  187912          Singh Hut  Abohar    3.7      20+ ratings  ₹ 250   \n",
       "4  543530      GRILL MASTERS  Abohar     --  Too Few Ratings  ₹ 250   \n",
       "\n",
       "                      cuisine  \n",
       "0            Beverages,Pizzas  \n",
       "1               Sweets,Bakery  \n",
       "2                   Beverages  \n",
       "3            Fast Food,Indian  \n",
       "4  Italian-American,Fast Food  "
      ]
     },
     "execution_count": 11,
     "metadata": {},
     "output_type": "execute_result"
    }
   ],
   "source": [
    "# DATA PREPROCESSING\n",
    "\n",
    "numerical_columns = raw_df.select_dtypes(include=['number']).columns\n",
    "print(\"Numerical Columns:\", numerical_columns)\n",
    "\n",
    "categorical_columns = raw_df.select_dtypes(include=['object']).columns\n",
    "print(\"Categorical Columns:\", categorical_columns)\n",
    "\n",
    "raw_df.head(5)"
   ]
  },
  {
   "cell_type": "code",
   "execution_count": null,
   "id": "09649a90",
   "metadata": {},
   "outputs": [
    {
     "name": "stderr",
     "output_type": "stream",
     "text": [
      "C:\\Users\\Velpr\\AppData\\Local\\Temp\\ipykernel_20100\\2170453469.py:3: FutureWarning: A value is trying to be set on a copy of a DataFrame or Series through chained assignment using an inplace method.\n",
      "The behavior will change in pandas 3.0. This inplace method will never work because the intermediate object on which we are setting values always behaves as a copy.\n",
      "\n",
      "For example, when doing 'df[col].method(value, inplace=True)', try using 'df.method({col: value}, inplace=True)' or df[col] = df[col].method(value) instead, to perform the operation inplace on the original object.\n",
      "\n",
      "\n",
      "  raw_df['rating'].replace(['null', 'Na', 'NA', 'NaN','Not available', ''], pd.NA, inplace=True)\n",
      "C:\\Users\\Velpr\\AppData\\Local\\Temp\\ipykernel_20100\\2170453469.py:6: FutureWarning: A value is trying to be set on a copy of a DataFrame or Series through chained assignment using an inplace method.\n",
      "The behavior will change in pandas 3.0. This inplace method will never work because the intermediate object on which we are setting values always behaves as a copy.\n",
      "\n",
      "For example, when doing 'df[col].method(value, inplace=True)', try using 'df.method({col: value}, inplace=True)' or df[col] = df[col].method(value) instead, to perform the operation inplace on the original object.\n",
      "\n",
      "\n",
      "  raw_df[\"rating\"].fillna(raw_df[\"rating\"].median(), inplace=True)  # Fill with median\n"
     ]
    },
    {
     "data": {
      "text/plain": [
       "id              0\n",
       "name            0\n",
       "city            0\n",
       "rating          0\n",
       "rating_count    0\n",
       "cost            0\n",
       "cuisine         0\n",
       "dtype: int64"
      ]
     },
     "execution_count": 12,
     "metadata": {},
     "output_type": "execute_result"
    }
   ],
   "source": [
    "# filling nan values with median\n",
    "\n",
    "raw_df['rating'].replace(['--','null', 'Na', 'NA', 'NaN','Not available', ''], pd.NA, inplace=True)\n",
    "raw_df['rating'] = pd.to_numeric(raw_df['rating'], errors='coerce')\n",
    "\n",
    "raw_df[\"rating\"].fillna(raw_df[\"rating\"].median(), inplace=True)  # Fill with median\n",
    "\n",
    "raw_df.head(5)\n",
    "raw_df.isnull().sum()\n"
   ]
  },
  {
   "cell_type": "code",
   "execution_count": null,
   "id": "bd75b660",
   "metadata": {},
   "outputs": [],
   "source": [
    "# rating_count-change\n",
    "# cost-special char --remove\n",
    "\n",
    "# cuisine-change\n",
    "# 8:15 To 11:30 Pm\n"
   ]
  },
  {
   "cell_type": "code",
   "execution_count": 13,
   "id": "c3a75a37",
   "metadata": {},
   "outputs": [],
   "source": [
    "# DATA CLEANING\n",
    "raw_df[\"rating\"] = pd.DataFrame(raw_df, columns=[\"rating\"]).round(1)\n",
    "\n",
    "raw_df[\"rating_count\"] = raw_df[\"rating_count\"].str.replace('+ ratings', '', regex=False)\n",
    "\n",
    "# Convert \"K\" values to numeric\n",
    "raw_df[\"rating_count\"] = raw_df[\"rating_count\"].replace(\"Too Few Ratings\", \"10\")\n",
    "\n",
    "raw_df[\"rating_count\"] = raw_df[\"rating_count\"].apply(lambda x: float(x.replace(\"K\", \"\")) * 1000 if \"K\" in x else float(x))\n",
    "\n"
   ]
  },
  {
   "cell_type": "code",
   "execution_count": 14,
   "id": "4fdbba97",
   "metadata": {},
   "outputs": [],
   "source": [
    "# Replace \"₹\" symbol and convert values to numeric\n",
    "\n",
    "raw_df['cost'] = raw_df['cost'].replace('[^0-9]', '', regex=True).astype(int)"
   ]
  },
  {
   "cell_type": "code",
   "execution_count": 15,
   "id": "44c6d16a",
   "metadata": {},
   "outputs": [],
   "source": [
    "# Cuisine column\n",
    "# Find the most frequently occurring value in the 'cuisine' column\n",
    "most_frequent_value = raw_df['cuisine'].value_counts().idxmax()\n",
    "\n",
    "raw_df[\"cuisine\"] = raw_df[\"cuisine\"].replace(\"8:15 To 11:30 Pm\", most_frequent_value)\n",
    "\n",
    "\n"
   ]
  },
  {
   "cell_type": "code",
   "execution_count": 16,
   "id": "b97c50fe",
   "metadata": {},
   "outputs": [
    {
     "name": "stdout",
     "output_type": "stream",
     "text": [
      "            id                      name      city  rating  rating_count  \\\n",
      "0       567335            AB FOODS POINT    Abohar     4.0          10.0   \n",
      "1       531342         Janta Sweet House    Abohar     4.4          50.0   \n",
      "2       158203         theka coffee desi    Abohar     3.8         100.0   \n",
      "3       187912                 Singh Hut    Abohar     3.7          20.0   \n",
      "4       543530             GRILL MASTERS    Abohar     4.0          10.0   \n",
      "...        ...                       ...       ...     ...           ...   \n",
      "148536  553122          The Food Delight  Yavatmal     4.0          10.0   \n",
      "148537  562647  MAITRI FOODS & BEVERAGES  Yavatmal     4.0          10.0   \n",
      "148538  559435           Cafe Bella Ciao  Yavatmal     4.0          10.0   \n",
      "148539  418989               GRILL ZILLA  Yavatmal     4.0          10.0   \n",
      "148540  447770            Lazeez kitchen  Yavatmal     4.0          10.0   \n",
      "\n",
      "        cost                     cuisine  OnlyCity  \n",
      "0        200            Beverages,Pizzas    Abohar  \n",
      "1        200               Sweets,Bakery    Abohar  \n",
      "2        100                   Beverages    Abohar  \n",
      "3        250            Fast Food,Indian    Abohar  \n",
      "4        250  Italian-American,Fast Food    Abohar  \n",
      "...      ...                         ...       ...  \n",
      "148536   200            Fast Food,Snacks  Yavatmal  \n",
      "148537   300                      Pizzas  Yavatmal  \n",
      "148538   300            Fast Food,Snacks  Yavatmal  \n",
      "148539   250                 Continental  Yavatmal  \n",
      "148540   200                      Pizzas  Yavatmal  \n",
      "\n",
      "[148398 rows x 8 columns]\n"
     ]
    }
   ],
   "source": [
    "# Creating \"OnlyCity\" coln with post-comma or keep original if no comma \n",
    "raw_df[\"OnlyCity\"] = raw_df[\"city\"].apply(lambda x: x.split(\",\", 1)[1] if \",\" in x else x)\n",
    "\n",
    "print(raw_df)\n"
   ]
  },
  {
   "cell_type": "code",
   "execution_count": 17,
   "id": "d0ad1308",
   "metadata": {},
   "outputs": [
    {
     "name": "stdout",
     "output_type": "stream",
     "text": [
      "1187184\n",
      "(148398, 8)\n",
      "id              0\n",
      "name            0\n",
      "city            0\n",
      "rating          0\n",
      "rating_count    0\n",
      "cost            0\n",
      "cuisine         0\n",
      "OnlyCity        0\n",
      "dtype: int64\n",
      "0\n"
     ]
    }
   ],
   "source": [
    "print(raw_df.size)\n",
    "print(raw_df.shape)\n",
    "print(raw_df.isnull().sum())\n",
    "print(raw_df.duplicated().sum())"
   ]
  },
  {
   "cell_type": "code",
   "execution_count": 18,
   "id": "0c6cca87",
   "metadata": {},
   "outputs": [],
   "source": [
    "# Save in Cleaned Data to CSV\n",
    "raw_df.to_csv(\"C:/Users/Velpr/Documents/Swiggy/Cleaned_Data.csv\", index=True)"
   ]
  },
  {
   "cell_type": "code",
   "execution_count": null,
   "id": "e1567e7b",
   "metadata": {},
   "outputs": [
    {
     "name": "stdout",
     "output_type": "stream",
     "text": [
      "        Unnamed: 0      id                      name      city  rating  \\\n",
      "0                0  567335            AB FOODS POINT    Abohar     4.0   \n",
      "1                1  531342         Janta Sweet House    Abohar     4.4   \n",
      "2                2  158203         theka coffee desi    Abohar     3.8   \n",
      "3                3  187912                 Singh Hut    Abohar     3.7   \n",
      "4                4  543530             GRILL MASTERS    Abohar     4.0   \n",
      "...            ...     ...                       ...       ...     ...   \n",
      "148393      148536  553122          The Food Delight  Yavatmal     4.0   \n",
      "148394      148537  562647  MAITRI FOODS & BEVERAGES  Yavatmal     4.0   \n",
      "148395      148538  559435           Cafe Bella Ciao  Yavatmal     4.0   \n",
      "148396      148539  418989               GRILL ZILLA  Yavatmal     4.0   \n",
      "148397      148540  447770            Lazeez kitchen  Yavatmal     4.0   \n",
      "\n",
      "        rating_count  cost                     cuisine  OnlyCity  \\\n",
      "0               10.0   200            Beverages,Pizzas    Abohar   \n",
      "1               50.0   200               Sweets,Bakery    Abohar   \n",
      "2              100.0   100                   Beverages    Abohar   \n",
      "3               20.0   250            Fast Food,Indian    Abohar   \n",
      "4               10.0   250  Italian-American,Fast Food    Abohar   \n",
      "...              ...   ...                         ...       ...   \n",
      "148393          10.0   200            Fast Food,Snacks  Yavatmal   \n",
      "148394          10.0   300                      Pizzas  Yavatmal   \n",
      "148395          10.0   300            Fast Food,Snacks  Yavatmal   \n",
      "148396          10.0   250                 Continental  Yavatmal   \n",
      "148397          10.0   200                      Pizzas  Yavatmal   \n",
      "\n",
      "        name_Encoded  ...  cuisine_Vietnamese,Snacks  cuisine_Waffle  \\\n",
      "0               1581  ...                        0.0             0.0   \n",
      "1              47399  ...                        0.0             0.0   \n",
      "2             112598  ...                        0.0             0.0   \n",
      "3              90268  ...                        0.0             0.0   \n",
      "4              34924  ...                        0.0             0.0   \n",
      "...              ...  ...                        ...             ...   \n",
      "148393        100625  ...                        0.0             0.0   \n",
      "148394         56559  ...                        0.0             0.0   \n",
      "148395         18406  ...                        0.0             0.0   \n",
      "148396         34943  ...                        0.0             0.0   \n",
      "148397         54899  ...                        0.0             0.0   \n",
      "\n",
      "        cuisine_Waffle,Bakery  cuisine_Waffle,Beverages  \\\n",
      "0                         0.0                       0.0   \n",
      "1                         0.0                       0.0   \n",
      "2                         0.0                       0.0   \n",
      "3                         0.0                       0.0   \n",
      "4                         0.0                       0.0   \n",
      "...                       ...                       ...   \n",
      "148393                    0.0                       0.0   \n",
      "148394                    0.0                       0.0   \n",
      "148395                    0.0                       0.0   \n",
      "148396                    0.0                       0.0   \n",
      "148397                    0.0                       0.0   \n",
      "\n",
      "        cuisine_Waffle,Burgers  cuisine_Waffle,Chinese  \\\n",
      "0                          0.0                     0.0   \n",
      "1                          0.0                     0.0   \n",
      "2                          0.0                     0.0   \n",
      "3                          0.0                     0.0   \n",
      "4                          0.0                     0.0   \n",
      "...                        ...                     ...   \n",
      "148393                     0.0                     0.0   \n",
      "148394                     0.0                     0.0   \n",
      "148395                     0.0                     0.0   \n",
      "148396                     0.0                     0.0   \n",
      "148397                     0.0                     0.0   \n",
      "\n",
      "        cuisine_Waffle,Desserts  cuisine_Waffle,Fast Food  \\\n",
      "0                           0.0                       0.0   \n",
      "1                           0.0                       0.0   \n",
      "2                           0.0                       0.0   \n",
      "3                           0.0                       0.0   \n",
      "4                           0.0                       0.0   \n",
      "...                         ...                       ...   \n",
      "148393                      0.0                       0.0   \n",
      "148394                      0.0                       0.0   \n",
      "148395                      0.0                       0.0   \n",
      "148396                      0.0                       0.0   \n",
      "148397                      0.0                       0.0   \n",
      "\n",
      "        cuisine_Waffle,Ice Cream  cuisine_Waffle,Snacks  \n",
      "0                            0.0                    0.0  \n",
      "1                            0.0                    0.0  \n",
      "2                            0.0                    0.0  \n",
      "3                            0.0                    0.0  \n",
      "4                            0.0                    0.0  \n",
      "...                          ...                    ...  \n",
      "148393                       0.0                    0.0  \n",
      "148394                       0.0                    0.0  \n",
      "148395                       0.0                    0.0  \n",
      "148396                       0.0                    0.0  \n",
      "148397                       0.0                    0.0  \n",
      "\n",
      "[148398 rows x 2695 columns]\n"
     ]
    }
   ],
   "source": [
    "# ENCODING\n",
    "import pandas as pd\n",
    "from sklearn.preprocessing import LabelEncoder, OneHotEncoder\n",
    "\n",
    "cleaned_df = pd.read_csv(\"C:/Users/Velpr/Documents/Swiggy/Cleaned_Data.csv\")\n",
    "\n",
    "### Label Encoding\n",
    "label_encoder = LabelEncoder()\n",
    "cleaned_df[\"name_Encoded\"] = label_encoder.fit_transform(cleaned_df[\"name\"])\n",
    "\n",
    "### One-Hot Encoding\n",
    "# drop='first' avoids redundant columns\n",
    "one_hot_encoder = OneHotEncoder(sparse_output=False, handle_unknown='ignore')  \n",
    "encoded_cols = one_hot_encoder.fit_transform(raw_df[[\"OnlyCity\", \"cuisine\"]])\n",
    "\n",
    "# Convert encoded array to DataFrame with appropriate column names\n",
    "encoded_df = pd.DataFrame(encoded_cols, columns=one_hot_encoder.get_feature_names_out([\"OnlyCity\", \"cuisine\"]))\n",
    "\n",
    "### Concatenate with Original DataFrame\n",
    "cleaned_df = pd.concat([cleaned_df, encoded_df], axis=1)\n",
    "\n",
    "\n",
    "print(cleaned_df)"
   ]
  },
  {
   "cell_type": "code",
   "execution_count": 20,
   "id": "5c2bce21",
   "metadata": {},
   "outputs": [
    {
     "name": "stdout",
     "output_type": "stream",
     "text": [
      "Encoders saved successfully as encoding.pkl\n"
     ]
    }
   ],
   "source": [
    "import pickle\n",
    "\n",
    "# Save the encoders to a pickle file\n",
    "with open(\"encoding.pkl\", \"wb\") as f:\n",
    "    pickle.dump({\"label_encoder\": label_encoder, \"one_hot_encoder\": one_hot_encoder}, f)\n",
    "\n",
    "print(\"Encoders saved successfully as encoding.pkl\")"
   ]
  },
  {
   "cell_type": "code",
   "execution_count": 22,
   "id": "03a5e042",
   "metadata": {},
   "outputs": [
    {
     "name": "stdout",
     "output_type": "stream",
     "text": [
      "Is the Pickle data fully numeric? False\n"
     ]
    }
   ],
   "source": [
    "#To check pickle file contains numeric alone or not:\n",
    "\n",
    "# Load pickle file\n",
    "with open(\"encoding.pkl\", \"rb\") as f:\n",
    "    data = pickle.load(f)  # Load the stored encoders or DataFrame\n",
    "\n",
    "# Check if all columns in DataFrame are numeric\n",
    "if isinstance(data, pd.DataFrame):\n",
    "    all_numeric = all(pd.api.types.is_numeric_dtype(data[col]) for col in data.columns)\n",
    "    print(\"Is the DataFrame fully numeric?\", all_numeric)\n",
    "\n",
    "# Check if all values in dictionary or list are numeric\n",
    "elif isinstance(data, dict):\n",
    "    all_numeric = all(isinstance(value, (int, float)) for value in data.values())\n",
    "    print(\"Is the Pickle data fully numeric?\", all_numeric)\n",
    "\n",
    "elif isinstance(data, list):\n",
    "    all_numeric = all(isinstance(value, (int, float)) for value in data)\n",
    "    print(\"Is the Pickle data fully numeric?\", all_numeric)"
   ]
  },
  {
   "cell_type": "code",
   "execution_count": 23,
   "id": "2bf32595",
   "metadata": {},
   "outputs": [],
   "source": [
    "# To convert dict data to numeric\n",
    "\n",
    "if isinstance(data, dict):\n",
    "    data = {key: float(value) if isinstance(value, (int, float)) else None for key, value in data.items()}\n",
    "\n",
    "elif isinstance(data, list):\n",
    "    data = [float(value) if isinstance(value, (int, float)) else None for value in data]"
   ]
  },
  {
   "cell_type": "code",
   "execution_count": 24,
   "id": "7b928b3e",
   "metadata": {},
   "outputs": [
    {
     "name": "stdout",
     "output_type": "stream",
     "text": [
      "Data preprocessing completed successfully!\n"
     ]
    }
   ],
   "source": [
    "# Ensure numeric values & encoded sparse features\n",
    "\n",
    "from scipy import sparse\n",
    "\n",
    "# Drop original categorical cols    \n",
    "numeric_df = cleaned_df.drop(columns=['name', 'city', 'cuisine', 'OnlyCity'])\n",
    "\n",
    "# Combine as sparse matrix\n",
    "# Converting categorical encoding to sparse matrix\n",
    "encoded_sparse = sparse.csr_matrix(encoded_df.values)\n",
    "Final_sparse_matrix = sparse.hstack([sparse.csr_matrix(numeric_df.values), encoded_sparse])\n",
    "\n",
    "# Save sparse matrix\n",
    "sparse.save_npz('encoded_data_sparse.npz', Final_sparse_matrix)\n",
    "\n",
    "# Save numeric data as CSV\n",
    "numeric_df.to_csv('Encoded_Numeric_Data.csv', index=False)\n",
    "\n",
    "print(\"Data preprocessing completed successfully!\")"
   ]
  },
  {
   "cell_type": "code",
   "execution_count": 25,
   "id": "453b078a",
   "metadata": {},
   "outputs": [
    {
     "name": "stdout",
     "output_type": "stream",
     "text": [
      "True\n"
     ]
    }
   ],
   "source": [
    "# Verify Index Alignment After Loading\n",
    "\n",
    "cleaned_df = pd.read_csv(\"C:/Users/Velpr/Documents/Swiggy/Cleaned_Data.csv\", index_col=0)\n",
    "encoded_df = pd.read_csv(\"Encoded_Numeric_Data.csv\", index_col=0)\n",
    "\n",
    "# Check if indices match\n",
    "print(cleaned_df.index.equals(encoded_df.index))"
   ]
  },
  {
   "cell_type": "code",
   "execution_count": 26,
   "id": "0d183ba8",
   "metadata": {},
   "outputs": [
    {
     "name": "stdout",
     "output_type": "stream",
     "text": [
      "                id  rating  rating_count  cost  name_Encoded  \\\n",
      "Unnamed: 0                                                     \n",
      "0           567335     4.0          10.0   200          1581   \n",
      "1           531342     4.4          50.0   200         47399   \n",
      "2           158203     3.8         100.0   100        112598   \n",
      "3           187912     3.7          20.0   250         90268   \n",
      "4           543530     4.0          10.0   250         34924   \n",
      "\n",
      "            OnlyCity_ Nacharam & Malkajigiri,Hyderabad  \\\n",
      "Unnamed: 0                                               \n",
      "0                                                  0.0   \n",
      "1                                                  0.0   \n",
      "2                                                  0.0   \n",
      "3                                                  0.0   \n",
      "4                                                  0.0   \n",
      "\n",
      "            OnlyCity_ New BEL Road,Bangalore  OnlyCity_Abohar  \\\n",
      "Unnamed: 0                                                      \n",
      "0                                        0.0              1.0   \n",
      "1                                        0.0              1.0   \n",
      "2                                        0.0              1.0   \n",
      "3                                        0.0              1.0   \n",
      "4                                        0.0              1.0   \n",
      "\n",
      "            OnlyCity_Adilabad  OnlyCity_Adityapur  ...  cuisine_Waffle  \\\n",
      "Unnamed: 0                                         ...                   \n",
      "0                         0.0                 0.0  ...             0.0   \n",
      "1                         0.0                 0.0  ...             0.0   \n",
      "2                         0.0                 0.0  ...             0.0   \n",
      "3                         0.0                 0.0  ...             0.0   \n",
      "4                         0.0                 0.0  ...             0.0   \n",
      "\n",
      "            cuisine_Waffle,Bakery  cuisine_Waffle,Beverages  \\\n",
      "Unnamed: 0                                                    \n",
      "0                             0.0                       0.0   \n",
      "1                             0.0                       0.0   \n",
      "2                             0.0                       0.0   \n",
      "3                             0.0                       0.0   \n",
      "4                             0.0                       0.0   \n",
      "\n",
      "            cuisine_Waffle,Burgers  cuisine_Waffle,Chinese  \\\n",
      "Unnamed: 0                                                   \n",
      "0                              0.0                     0.0   \n",
      "1                              0.0                     0.0   \n",
      "2                              0.0                     0.0   \n",
      "3                              0.0                     0.0   \n",
      "4                              0.0                     0.0   \n",
      "\n",
      "            cuisine_Waffle,Desserts  cuisine_Waffle,Fast Food  \\\n",
      "Unnamed: 0                                                      \n",
      "0                               0.0                       0.0   \n",
      "1                               0.0                       0.0   \n",
      "2                               0.0                       0.0   \n",
      "3                               0.0                       0.0   \n",
      "4                               0.0                       0.0   \n",
      "\n",
      "            cuisine_Waffle,Ice Cream  cuisine_Waffle,Snacks  Cluster  \n",
      "Unnamed: 0                                                            \n",
      "0                                0.0                    0.0        0  \n",
      "1                                0.0                    0.0        0  \n",
      "2                                0.0                    0.0        3  \n",
      "3                                0.0                    0.0        3  \n",
      "4                                0.0                    0.0        0  \n",
      "\n",
      "[5 rows x 2691 columns]\n"
     ]
    }
   ],
   "source": [
    "# Recommendation Methodology\n",
    "## Clustering with K-Mean\n",
    "from sklearn.cluster import KMeans\n",
    "\n",
    "# Define number of clusters (adjust based on dataset size)\n",
    "kmeans = KMeans(n_clusters=5, random_state=42)\n",
    "\n",
    "# Fit the model on the encoded data\n",
    "encoded_df[\"Cluster\"] = kmeans.fit_predict(encoded_df)\n",
    "\n",
    "print(encoded_df.head())  \n",
    "\n",
    "\n"
   ]
  },
  {
   "cell_type": "code",
   "execution_count": 27,
   "id": "3bfde0e0",
   "metadata": {},
   "outputs": [
    {
     "name": "stdout",
     "output_type": "stream",
     "text": [
      "K-Means & Encoders saved successfully as models.pkl\n"
     ]
    }
   ],
   "source": [
    "import pickle\n",
    "\n",
    "# Ensure trained objects exist before saving\n",
    "\n",
    "trained_columns = encoded_df.columns.tolist()\n",
    "\n",
    "# Save it along with the model\n",
    "save_data = {\n",
    "    \"kmeans\": kmeans,\n",
    "    \"label_encoder\": label_encoder,\n",
    "    \"one_hot_encoder\": one_hot_encoder,\n",
    "    \"encoded_df\": encoded_df,\n",
    "    \"trained_columns\": trained_columns\n",
    "}\n",
    "\n",
    "# Save K-Means and Encoders using Pickle\n",
    "with open(\"models.pkl\", \"wb\") as f:\n",
    "    pickle.dump(save_data, f)\n",
    "\n",
    "print(\"K-Means & Encoders saved successfully as models.pkl\")\n",
    "\n"
   ]
  },
  {
   "cell_type": "code",
   "execution_count": null,
   "id": "b58ebce7",
   "metadata": {},
   "outputs": [
    {
     "name": "stdout",
     "output_type": "stream",
     "text": [
      "<class 'sklearn.preprocessing._label.LabelEncoder'>\n",
      "Merged pickle file saved as 'merged_models.pkl'\n"
     ]
    }
   ],
   "source": [
    "import pickle\n",
    "\n",
    "# Load existing pickle files\n",
    "file_names = [\"models.pkl\", \"encoding.pkl\"]  \n",
    "merged_data = {}\n",
    "\n",
    "for file_name in file_names:\n",
    "    with open(file_name, \"rb\") as f:\n",
    "        data = pickle.load(f)\n",
    "        merged_data.update(data) \n",
    "\n",
    "# Save the merged pickle file\n",
    "with open(\"merged_models.pkl\", \"wb\") as f:\n",
    "    pickle.dump(merged_data, f)\n",
    "\n",
    "with open(\"merged_models.pkl\", \"rb\") as f:\n",
    "    models = pickle.load(f)\n",
    "\n",
    "label_encoder = models[\"label_encoder\"]\n",
    "print(type(label_encoder))  \n",
    "\n",
    "print(\"Merged pickle file saved as 'merged_models.pkl'\")\n",
    "\n",
    "\n"
   ]
  },
  {
   "cell_type": "code",
   "execution_count": 49,
   "id": "f4d2114f",
   "metadata": {},
   "outputs": [],
   "source": [
    "# Save during training\n",
    "kmeans_data = {\n",
    "    'kmeans': kmeans,\n",
    "    'features': list(encoded_df.columns)\n",
    "}\n",
    "with open(\"merged_models.pkl\", \"wb\") as f:\n",
    "    pickle.dump(kmeans_data, f)\n"
   ]
  },
  {
   "cell_type": "code",
   "execution_count": null,
   "id": "5d637ba8",
   "metadata": {},
   "outputs": [
    {
     "name": "stdout",
     "output_type": "stream",
     "text": [
      "Encoded data and clusters successfully saved in final_encoded_clusters.pkl\n"
     ]
    }
   ],
   "source": [
    "import pickle\n",
    "import pandas as pd\n",
    "import numpy as np\n",
    "\n",
    "# Load encoded data\n",
    "#encoded_df = pd.read_csv(\"Encoded_Numeric_Data.csv\", index_col=0, dtype=np.float32)\n",
    "with open(\"merged_models.pkl\", \"rb\") as f:\n",
    "    kmeans_data = pickle.load(f)\n",
    "    kmeans = kmeans_data['kmeans']                   \n",
    "    feature_names = kmeans_data['features'] \n",
    "\n",
    "feature_names = [f for f in feature_names if f != 'Cluster']\n",
    "\n",
    "encoded_df = pd.read_csv(\n",
    "    \"Encoded_Numeric_Data.csv\",\n",
    "    usecols=[\"Unnamed: 0\"] + feature_names,  \n",
    "    index_col=0,\n",
    "    dtype=np.float64\n",
    ")\n",
    "\n",
    "# Load cluster assignments (assuming they are already computed)\n",
    "with open(\"merged_models.pkl\", \"rb\") as f:\n",
    "    models = pickle.load(f)\n",
    "\n",
    "kmeans = models[\"kmeans\"]\n",
    "encoded_df = encoded_df.select_dtypes(include=[\"float64\", \"int64\"])\n",
    "encoded_df = encoded_df.astype(np.float64)  \n",
    "\n",
    "\n",
    "encoded_df[\"Cluster\"] = kmeans.predict(encoded_df)  \n",
    "\n",
    "\n",
    "# Bundle everything into a dictionary\n",
    "data_bundle = {\n",
    "    \"encoded_data\": encoded_df,\n",
    "    \"clusters\": encoded_df[\"Cluster\"].values, \n",
    "    \"kmeans\": kmeans,  \n",
    "}\n",
    "\n",
    "# Save to pickle file\n",
    "with open(\"final_encoded_clusters.pkl\", \"wb\") as f:\n",
    "    pickle.dump(data_bundle, f)\n",
    "\n",
    "print(\"Encoded data and clusters successfully saved in final_encoded_clusters.pkl\")"
   ]
  },
  {
   "cell_type": "code",
   "execution_count": 8,
   "id": "5450ac54",
   "metadata": {},
   "outputs": [
    {
     "name": "stdout",
     "output_type": "stream",
     "text": [
      "dict_keys(['encoded_data', 'clusters', 'kmeans'])\n"
     ]
    }
   ],
   "source": [
    "print(data_bundle.keys())"
   ]
  }
 ],
 "metadata": {
  "kernelspec": {
   "display_name": "swiggy.venv",
   "language": "python",
   "name": "python3"
  },
  "language_info": {
   "codemirror_mode": {
    "name": "ipython",
    "version": 3
   },
   "file_extension": ".py",
   "mimetype": "text/x-python",
   "name": "python",
   "nbconvert_exporter": "python",
   "pygments_lexer": "ipython3",
   "version": "3.10.11"
  }
 },
 "nbformat": 4,
 "nbformat_minor": 5
}
